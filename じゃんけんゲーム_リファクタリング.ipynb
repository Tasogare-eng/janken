{
  "nbformat": 4,
  "nbformat_minor": 0,
  "metadata": {
    "colab": {
      "provenance": [],
      "authorship_tag": "ABX9TyM66lv3bA5/NdrkRQuYOZVz",
      "include_colab_link": true
    },
    "kernelspec": {
      "name": "python3",
      "display_name": "Python 3"
    },
    "language_info": {
      "name": "python"
    }
  },
  "cells": [
    {
      "cell_type": "markdown",
      "metadata": {
        "id": "view-in-github",
        "colab_type": "text"
      },
      "source": [
        "<a href=\"https://colab.research.google.com/github/Tasogare-eng/janken/blob/main/%E3%81%98%E3%82%83%E3%82%93%E3%81%91%E3%82%93%E3%82%B2%E3%83%BC%E3%83%A0_%E3%83%AA%E3%83%95%E3%82%A1%E3%82%AF%E3%82%BF%E3%83%AA%E3%83%B3%E3%82%B0.ipynb\" target=\"_parent\"><img src=\"https://colab.research.google.com/assets/colab-badge.svg\" alt=\"Open In Colab\"/></a>"
      ]
    },
    {
      "cell_type": "code",
      "execution_count": null,
      "metadata": {
        "id": "0upnIK7tT2RW"
      },
      "outputs": [],
      "source": [
        "print(\"ゲームを開始します\")\n",
        "\n",
        "player = input(\"グー、チョキ、パーを入力して下さい：\")\n",
        "computer = \"グー\"\n",
        "\n",
        "print(f\"あなた:{player} vs コンピュータ:{computer}\")\n",
        "if player == computer:\n",
        "    print(\"引き分け\")\n",
        "elif player == \"グー\" and computer == \"チョキ\":\n",
        "    print(\"あなたの勝ち\")\n",
        "elif player == \"グー\" and computer == \"パー\":\n",
        "    print(\"コンピュータの勝ち\")\n",
        "elif player == \"チョキ\" and computer == \"グー\":\n",
        "    print(\"コンピュータの勝ち\")\n",
        "elif player == \"チョキ\" and computer == \"パー\":\n",
        "    print(\"あなたの勝ち\")\n",
        "elif player == \"パー\" and computer == \"グー\":\n",
        "    print(\"あなたの勝ち\")\n",
        "elif player == \"パー\" and computer == \"チョキ\":\n",
        "    print(\"コンピュータの勝ち\")\n",
        "else:\n",
        "    print(\"入力に誤りがあります\")\n",
        "\n",
        "print(\"ゲームを終了します\")"
      ]
    },
    {
      "cell_type": "markdown",
      "source": [
        "# 関数定義"
      ],
      "metadata": {
        "id": "yansjR3IkdKZ"
      }
    },
    {
      "cell_type": "code",
      "source": [
        "def player_input():\n",
        "    player = input(\"グー、チョキ、パーを入力して下さい：\")\n",
        "    return player"
      ],
      "metadata": {
        "id": "_1bwCwSBT9ol"
      },
      "execution_count": null,
      "outputs": []
    },
    {
      "cell_type": "code",
      "source": [
        "def computer_input():\n",
        "    return \"グー\""
      ],
      "metadata": {
        "id": "Yt5QpTqOU4k0"
      },
      "execution_count": null,
      "outputs": []
    },
    {
      "cell_type": "code",
      "source": [
        "def win_lose(player, computer):\n",
        "    print(f\"あなた:{player} vs コンピュータ:{computer}\")\n",
        "    if player == computer:\n",
        "        print(\"引き分け\")\n",
        "    elif player == \"グー\" and computer == \"チョキ\":\n",
        "        print(\"あなたの勝ち\")\n",
        "    elif player == \"グー\" and computer == \"パー\":\n",
        "        print(\"コンピュータの勝ち\")\n",
        "    elif player == \"チョキ\" and computer == \"グー\":\n",
        "        print(\"コンピュータの勝ち\")\n",
        "    elif player == \"チョキ\" and computer == \"パー\":\n",
        "        print(\"あなたの勝ち\")\n",
        "    elif player == \"パー\" and computer == \"グー\":\n",
        "        print(\"あなたの勝ち\")\n",
        "    elif player == \"パー\" and computer == \"チョキ\":\n",
        "        print(\"コンピュータの勝ち\")\n",
        "    else:\n",
        "        print(\"入力に誤りがあります\")"
      ],
      "metadata": {
        "id": "nZyxVGyLU_Fx"
      },
      "execution_count": null,
      "outputs": []
    },
    {
      "cell_type": "code",
      "source": [
        "print(\"ゲームを開始します\")\n",
        "\n",
        "player = player_input()\n",
        "computer = computer_input()\n",
        "win_lose(player, computer)\n",
        "\n",
        "print(\"ゲームを終了します\")"
      ],
      "metadata": {
        "id": "Tot1javfVnVL"
      },
      "execution_count": null,
      "outputs": []
    },
    {
      "cell_type": "markdown",
      "source": [
        "#定数およびグローバル変数とローカル変数"
      ],
      "metadata": {
        "id": "BO-TJvuvkjtI"
      }
    },
    {
      "cell_type": "code",
      "source": [
        "COMPUTER = \"グー\"\n",
        "\n",
        "def player_input():\n",
        "    player = input(\"グー、チョキ、パーを入力して下さい：\")\n",
        "    return player\n",
        "\n",
        "def computer_input():\n",
        "    global COMPUTER\n",
        "    COMPUTER = \"チョキ\"\n",
        "    return COMPUTER\n",
        "\n",
        "def win_lose(player, computer):\n",
        "    print(f\"あなた:{player} vs コンピュータ:{computer}\")\n",
        "    if player == computer:\n",
        "        print(\"引き分け\")\n",
        "    elif player == \"グー\" and computer == \"チョキ\":\n",
        "        print(\"あなたの勝ち\")\n",
        "    elif player == \"グー\" and computer == \"パー\":\n",
        "        print(\"コンピュータの勝ち\")\n",
        "    elif player == \"チョキ\" and computer == \"グー\":\n",
        "        print(\"コンピュータの勝ち\")\n",
        "    elif player == \"チョキ\" and computer == \"パー\":\n",
        "        print(\"あなたの勝ち\")\n",
        "    elif player == \"パー\" and computer == \"グー\":\n",
        "        print(\"あなたの勝ち\")\n",
        "    elif player == \"パー\" and computer == \"チョキ\":\n",
        "        print(\"コンピュータの勝ち\")\n",
        "    else:\n",
        "        print(\"入力に誤りがあります\")\n",
        "\n",
        "print(\"ゲームを開始します\")\n",
        "\n",
        "player = player_input()\n",
        "computer = computer_input()\n",
        "win_lose(player, computer)\n",
        "\n",
        "print(\"ゲームを終了します\")\n",
        "print(COMPUTER)"
      ],
      "metadata": {
        "id": "7QscyH8JV6FO"
      },
      "execution_count": null,
      "outputs": []
    },
    {
      "cell_type": "markdown",
      "source": [
        "# 型変換と例外処理"
      ],
      "metadata": {
        "id": "UwTJeZHYkm0K"
      }
    },
    {
      "cell_type": "code",
      "source": [
        "COMPUTER = 0\n",
        "HAND = [\"グー\", \"チョキ\", \"パー\"]\n",
        "\n",
        "#　入力の数字化と例外処理\n",
        "def player_input():\n",
        "    while True:\n",
        "        try:\n",
        "            player = int(input(\"0.グー、1.チョキ、2.パー（数字を選択して下さい)：\"))\n",
        "            if player in [0, 1, 2]:\n",
        "                break\n",
        "            else:\n",
        "                print(\"数字の0, 1, 2を選択して下さい。\")\n",
        "        except:\n",
        "            print(\"数字の0, 1, 2を選択して下さい。\")\n",
        "    return player\n",
        "\n",
        "def computer_input():\n",
        "    return COMPUTER\n",
        "\n",
        "# 判定処理を数字化\n",
        "def win_lose(player, computer):\n",
        "    print(f\"あなた:{HAND[player]} vs コンピュータ:{HAND[computer]}\")\n",
        "    if player == computer:\n",
        "        print(\"引き分け\")\n",
        "    elif player == 0 and computer == 1:\n",
        "        print(\"あなたの勝ち\")\n",
        "    elif player == 0 and computer == 2:\n",
        "        print(\"コンピュータの勝ち\")\n",
        "    elif player == 1 and computer == 0:\n",
        "        print(\"コンピュータの勝ち\")\n",
        "    elif player == 1 and computer == 2:\n",
        "        print(\"あなたの勝ち\")\n",
        "    elif player == 2 and computer == 0:\n",
        "        print(\"あなたの勝ち\")\n",
        "    elif player == 2 and computer == 1:\n",
        "        print(\"コンピュータの勝ち\")\n",
        "    else:\n",
        "        print(\"入力に誤りがあります\")\n",
        "\n",
        "print(\"ゲームを開始します\")\n",
        "\n",
        "player = player_input()\n",
        "computer = computer_input()\n",
        "win_lose(player, computer)\n",
        "\n",
        "print(\"ゲームを終了します\")"
      ],
      "metadata": {
        "id": "aPdabOmYXLh6"
      },
      "execution_count": null,
      "outputs": []
    },
    {
      "cell_type": "markdown",
      "source": [
        "# アルゴリズム"
      ],
      "metadata": {
        "id": "l4Kab-tInSKu"
      }
    },
    {
      "cell_type": "code",
      "source": [
        "COMPUTER = 0\n",
        "HAND = [\"グー\", \"チョキ\", \"パー\"]\n",
        "\n",
        "#　入力の数字化と例外処理\n",
        "def player_input():\n",
        "    while True:\n",
        "        try:\n",
        "            player = int(input(\"0.グー、1.チョキ、2.パー（数字を選択して下さい)：\"))\n",
        "            if player in [0, 1, 2]:\n",
        "                break\n",
        "            else:\n",
        "                print(\"数字の0, 1, 2を選択して下さい。\")\n",
        "        except:\n",
        "            print(\"数字の0, 1, 2を選択して下さい。\")\n",
        "    return player\n",
        "\n",
        "def computer_input():\n",
        "    return COMPUTER\n",
        "\n",
        "# 判定処理を数字化\n",
        "def win_lose(player, computer):\n",
        "    print(f\"あなた:{HAND[player]} vs コンピュータ:{HAND[computer]}\")\n",
        "    if player == computer:\n",
        "        msg = \"引き分け\"\n",
        "    elif player == 0 and computer == 1:\n",
        "        msg = \"あなたの勝ち\"\n",
        "    elif player == 0 and computer == 2:\n",
        "        msg = \"コンピュータの勝ち\"\n",
        "    elif player == 1 and computer == 0:\n",
        "        msg = \"コンピュータの勝ち\"\n",
        "    elif player == 1 and computer == 2:\n",
        "        msg = \"あなたの勝ち\"\n",
        "    elif player == 2 and computer == 0:\n",
        "        msg = \"あなたの勝ち\"\n",
        "    elif player == 2 and computer == 1:\n",
        "        msg = \"コンピュータの勝ち\"\n",
        "    else:\n",
        "        msg = \"入力に誤りがあります\"\n",
        "    print(msg)\n",
        "\n",
        "print(\"ゲームを開始します\")\n",
        "\n",
        "player = player_input()\n",
        "computer = computer_input()\n",
        "win_lose(player, computer)\n",
        "\n",
        "print(\"ゲームを終了します\")"
      ],
      "metadata": {
        "id": "HBAlQh0TlviP"
      },
      "execution_count": null,
      "outputs": []
    },
    {
      "cell_type": "code",
      "source": [
        "COMPUTER = 0\n",
        "HAND = [\"グー\", \"チョキ\", \"パー\"]\n",
        "\n",
        "#　入力の数字化と例外処理\n",
        "def player_input():\n",
        "    while True:\n",
        "        try:\n",
        "            player = int(input(\"0.グー、1.チョキ、2.パー（数字を選択して下さい)：\"))\n",
        "            if player in [0, 1, 2]:\n",
        "                break\n",
        "            else:\n",
        "                print(\"数字の0, 1, 2を選択して下さい。\")\n",
        "        except:\n",
        "            print(\"数字の0, 1, 2を選択して下さい。\")\n",
        "    return player\n",
        "\n",
        "def computer_input():\n",
        "    return COMPUTER\n",
        "\n",
        "# 判定処理を数字化\n",
        "WIN_TABLE = [[0, 1, -1], [-1, 0, 1], [1, -1, 0]]\n",
        "def win_lose(player, computer):\n",
        "    print(f\"あなた:{HAND[player]} vs コンピュータ:{HAND[computer]}\")\n",
        "    judgement = WIN_TABLE[player][computer]\n",
        "    if judgement == 0:\n",
        "        msg = \"引き分け\"\n",
        "    elif judgement == 1:\n",
        "        msg = \"プレーヤーの勝ち\"\n",
        "    elif judgement == -1:\n",
        "        msg = \"コンピュターの勝ち\"\n",
        "    else:\n",
        "        msg = \"入力に誤りがあります\"\n",
        "    print(msg)\n",
        "\n",
        "print(\"ゲームを開始します\")\n",
        "\n",
        "player = player_input()\n",
        "computer = computer_input()\n",
        "win_lose(player, computer)\n",
        "\n",
        "print(\"ゲームを終了します\")"
      ],
      "metadata": {
        "id": "lSXJa0fhpNwk"
      },
      "execution_count": null,
      "outputs": []
    }
  ]
}