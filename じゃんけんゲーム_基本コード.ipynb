{
  "nbformat": 4,
  "nbformat_minor": 0,
  "metadata": {
    "colab": {
      "provenance": [],
      "authorship_tag": "ABX9TyM5+GGBl8Vp3Z0DoM5VRX++",
      "include_colab_link": true
    },
    "kernelspec": {
      "name": "python3",
      "display_name": "Python 3"
    },
    "language_info": {
      "name": "python"
    }
  },
  "cells": [
    {
      "cell_type": "markdown",
      "metadata": {
        "id": "view-in-github",
        "colab_type": "text"
      },
      "source": [
        "<a href=\"https://colab.research.google.com/github/Tasogare-eng/janken/blob/main/%E3%81%98%E3%82%83%E3%82%93%E3%81%91%E3%82%93%E3%82%B2%E3%83%BC%E3%83%A0_%E5%9F%BA%E6%9C%AC%E3%82%B3%E3%83%BC%E3%83%89.ipynb\" target=\"_parent\"><img src=\"https://colab.research.google.com/assets/colab-badge.svg\" alt=\"Open In Colab\"/></a>"
      ]
    },
    {
      "cell_type": "code",
      "execution_count": null,
      "metadata": {
        "id": "xk8oLXzhQHKX"
      },
      "outputs": [],
      "source": [
        "player = input(\"グー、チョキ、パーを入力して下さい：\")\n",
        "\n",
        "#テスト用\n",
        "print(player)\n",
        "print(type(player))"
      ]
    },
    {
      "cell_type": "code",
      "source": [
        "computer = \"グー\"\n",
        "\n",
        "#テスト用\n",
        "print(computer)"
      ],
      "metadata": {
        "id": "1c4lumrBQ1RV"
      },
      "execution_count": null,
      "outputs": []
    },
    {
      "cell_type": "code",
      "source": [
        "player = \"グー\" # テスト用\n",
        "compouter = \"グー\" # テスト用\n",
        "\n",
        "if player == computer:\n",
        "    print(\"引き分け\")\n",
        "elif player == \"グー\" and computer == \"チョキ\":\n",
        "    print(\"あなたの勝ち\")\n",
        "elif player == \"グー\" and computer == \"パー\":\n",
        "    print(\"コンピュータの勝ち\")\n",
        "elif player == \"チョキ\" and computer == \"グー\":\n",
        "    print(\"コンピュータの勝ち\")\n",
        "elif player == \"チョキ\" and computer == \"パー\":\n",
        "    print(\"あなたの勝ち\")\n",
        "elif player == \"パー\" and computer == \"グー\":\n",
        "    print(\"あなたの勝ち\")\n",
        "elif player == \"パー\" and computer == \"チョキ\":\n",
        "    print(\"コンピュータの勝ち\")\n",
        "else:\n",
        "    print(\"入力に誤りがあります\")"
      ],
      "metadata": {
        "id": "yKDfv70yRZSu"
      },
      "execution_count": null,
      "outputs": []
    },
    {
      "cell_type": "code",
      "source": [
        "print(\"ゲームを開始します\")\n",
        "\n",
        "player = input(\"グー、チョキ、パーを入力して下さい：\")\n",
        "computer = \"グー\"\n",
        "if player == computer:\n",
        "    print(\"引き分け\")\n",
        "elif player == \"グー\" and computer == \"チョキ\":\n",
        "    print(\"あなたの勝ち\")\n",
        "elif player == \"グー\" and computer == \"パー\":\n",
        "    print(\"コンピュータの勝ち\")\n",
        "elif player == \"チョキ\" and computer == \"グー\":\n",
        "    print(\"コンピュータの勝ち\")\n",
        "elif player == \"チョキ\" and computer == \"パー\":\n",
        "    print(\"あなたの勝ち\")\n",
        "elif player == \"パー\" and computer == \"グー\":\n",
        "    print(\"あなたの勝ち\")\n",
        "elif player == \"パー\" and computer == \"チョキ\":\n",
        "    print(\"コンピュータの勝ち\")\n",
        "else:\n",
        "    print(\"入力に誤りがあります\")\n",
        "\n",
        "print(\"ゲームを終了します\")"
      ],
      "metadata": {
        "id": "pFzzoQOHSsZ-"
      },
      "execution_count": null,
      "outputs": []
    }
  ]
}